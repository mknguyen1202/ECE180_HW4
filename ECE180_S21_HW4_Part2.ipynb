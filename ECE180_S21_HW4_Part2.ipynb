{
  "nbformat": 4,
  "nbformat_minor": 0,
  "metadata": {
    "colab": {
      "name": "ECE180-S21-HW4-Part2.ipynb",
      "provenance": [],
      "collapsed_sections": [],
      "authorship_tag": "ABX9TyPiid7T5Wv6lDzsec3amVJt",
      "include_colab_link": true
    },
    "kernelspec": {
      "display_name": "Python 3",
      "name": "python3"
    },
    "language_info": {
      "name": "python"
    }
  },
  "cells": [
    {
      "cell_type": "markdown",
      "metadata": {
        "id": "view-in-github",
        "colab_type": "text"
      },
      "source": [
        "<a href=\"https://colab.research.google.com/github/mknguyen1202/ECE180_HW4/blob/main/ECE180_S21_HW4_Part2.ipynb\" target=\"_parent\"><img src=\"https://colab.research.google.com/assets/colab-badge.svg\" alt=\"Open In Colab\"/></a>"
      ]
    },
    {
      "cell_type": "code",
      "metadata": {
        "colab": {
          "base_uri": "https://localhost:8080/"
        },
        "id": "uB20dLIWuK6j",
        "outputId": "cd3bb1eb-e46a-435b-e64d-ef5caca487d0"
      },
      "source": [
        "## might need to enter authorization code\n",
        "from google.colab import drive\n",
        "drive.mount('/content/drive')"
      ],
      "execution_count": 12,
      "outputs": [
        {
          "output_type": "stream",
          "text": [
            "Drive already mounted at /content/drive; to attempt to forcibly remount, call drive.mount(\"/content/drive\", force_remount=True).\n"
          ],
          "name": "stdout"
        }
      ]
    },
    {
      "cell_type": "markdown",
      "metadata": {
        "id": "h0pzmFyQxtb8"
      },
      "source": [
        "First, we get the data from CIFAR."
      ]
    },
    {
      "cell_type": "code",
      "metadata": {
        "colab": {
          "base_uri": "https://localhost:8080/"
        },
        "id": "UrXH7X1TxzbS",
        "outputId": "60a7cffc-a779-40f3-f388-7c9a38ac5407"
      },
      "source": [
        "!wget https://www.cs.toronto.edu/~kriz/cifar-10-python.tar.gz\n",
        "!tar xvzf cifar-10-python.tar.gz"
      ],
      "execution_count": 17,
      "outputs": [
        {
          "output_type": "stream",
          "text": [
            "--2021-05-01 23:41:38--  https://www.cs.toronto.edu/~kriz/cifar-10-python.tar.gz\n",
            "Resolving www.cs.toronto.edu (www.cs.toronto.edu)... 128.100.3.30\n",
            "Connecting to www.cs.toronto.edu (www.cs.toronto.edu)|128.100.3.30|:443... failed: Connection timed out.\n",
            "Retrying.\n",
            "\n",
            "--2021-05-01 23:42:11--  (try: 2)  https://www.cs.toronto.edu/~kriz/cifar-10-python.tar.gz\n",
            "Connecting to www.cs.toronto.edu (www.cs.toronto.edu)|128.100.3.30|:443... connected.\n",
            "HTTP request sent, awaiting response... 200 OK\n",
            "Length: 170498071 (163M) [application/x-gzip]\n",
            "Saving to: ‘cifar-10-python.tar.gz’\n",
            "\n",
            "cifar-10-python.tar 100%[===================>] 162.60M  73.9MB/s    in 2.2s    \n",
            "\n",
            "2021-05-01 23:42:13 (73.9 MB/s) - ‘cifar-10-python.tar.gz’ saved [170498071/170498071]\n",
            "\n",
            "cifar-10-batches-py/\n",
            "cifar-10-batches-py/data_batch_4\n",
            "cifar-10-batches-py/readme.html\n",
            "cifar-10-batches-py/test_batch\n",
            "cifar-10-batches-py/data_batch_3\n",
            "cifar-10-batches-py/batches.meta\n",
            "cifar-10-batches-py/data_batch_2\n",
            "cifar-10-batches-py/data_batch_5\n",
            "cifar-10-batches-py/data_batch_1\n"
          ],
          "name": "stdout"
        }
      ]
    },
    {
      "cell_type": "markdown",
      "metadata": {
        "id": "KHnUVt-Lx4nb"
      },
      "source": [
        "Navigate to the data folder"
      ]
    },
    {
      "cell_type": "code",
      "metadata": {
        "colab": {
          "base_uri": "https://localhost:8080/"
        },
        "id": "x5-1Q1hgyBcM",
        "outputId": "3e418ffd-8343-4fec-ed1a-820d96d204d5"
      },
      "source": [
        "%cd cifar-10-batches-py/"
      ],
      "execution_count": 19,
      "outputs": [
        {
          "output_type": "stream",
          "text": [
            "[Errno 2] No such file or directory: 'cifar-10-batches-py/'\n",
            "/content/cifar-10-batches-py/cifar-10-batches-py/cifar-10-batches-py\n"
          ],
          "name": "stdout"
        }
      ]
    },
    {
      "cell_type": "code",
      "metadata": {
        "id": "Bhqk03K51s9x"
      },
      "source": [
        "# import necessary libraries\n",
        "import numpy as np\n",
        "import pickle\n",
        "import matplotlib.pyplot as plt\n",
        "from scipy import stats"
      ],
      "execution_count": 20,
      "outputs": []
    },
    {
      "cell_type": "code",
      "metadata": {
        "id": "vDlhZr-Ozb0J"
      },
      "source": [
        "# Pre-processing the data\n",
        "\n",
        "def load_data(batchname):\n",
        "  with open(batchname, 'rb') as fo:\n",
        "        batch = pickle.load(fo, encoding='bytes')\n",
        "  return np.array(batch[b'labels']), np.array(batch[b'data'].astype('int64'))\n",
        "\n",
        "\n",
        "train_labels, train_data = load_data('data_batch_1')\n",
        "test_labels, test_data = load_data('test_batch')\n",
        "\n",
        "NUMBER_OF_SAMPLES = 1000\n",
        "test_data = test_data[0:NUMBER_OF_SAMPLES]\n",
        "test_labels = test_labels[0:NUMBER_OF_SAMPLES]"
      ],
      "execution_count": 21,
      "outputs": []
    },
    {
      "cell_type": "markdown",
      "metadata": {
        "id": "QTOsyFwJXgFg"
      },
      "source": [
        "The KNN class:"
      ]
    },
    {
      "cell_type": "code",
      "metadata": {
        "id": "6Xbfcchu-A9Z"
      },
      "source": [
        "class KNN:\n",
        "  def __init__(self):\n",
        "    self.predicted = np.empty(NUMBER_OF_SAMPLES) \n",
        "\n",
        "  def fit(self, k, train_data, train_labels, test_data, test_labels):\n",
        "    N = len(test_data)\n",
        "    error = 0\n",
        "    closest_ndxs = np.empty(k)\n",
        "    for i in range(N):\n",
        "      distances = np.sqrt(np.sum((train_data - test_data[i])**2, axis = 1)) # all distances\n",
        "      closest_ndxs = np.argpartition(distances, k)[:k]                      # indices of the k lowest elements)\n",
        "      self.predicted[i] = stats.mode(train_labels[closest_ndxs])[0]         # the most frequent element\n",
        "      if test_labels[i] != self.predicted[i]:\n",
        "        error += 1\n",
        "    error /= N\n",
        "    return error\n",
        "  \n",
        "  def fit_specific(self, k, test_ndx, train_data, train_labels, test_data, test_labels):\n",
        "      closest_ndxs = np.empty(k)\n",
        "      distances = np.sqrt(np.sum((train_data - test_data[ndx])**2, axis = 1)) # all distances\n",
        "      closest_ndxs = np.argpartition(distances, k)[:k]                      # indices of the k lowest elements)\n",
        "      return train_labels[closest_ndxs]\n",
        " \n"
      ],
      "execution_count": 32,
      "outputs": []
    },
    {
      "cell_type": "markdown",
      "metadata": {
        "id": "gSsNkaVrEVIb"
      },
      "source": [
        "\n",
        "a) Pe = Number of Wrongly Classified Test Samples / Total Number of Test Samples. What is the error rate of your classification?\n"
      ]
    },
    {
      "cell_type": "code",
      "metadata": {
        "id": "NOHjiXyFEU0G",
        "colab": {
          "base_uri": "https://localhost:8080/"
        },
        "outputId": "a58f778c-6b55-4b73-b5ef-a0ba7d80d4f5"
      },
      "source": [
        "\n",
        "model = KNN()\n",
        "ks = [1, 2, 5, 10, 20]  # run with each k\n",
        "errors = [model.fit(k, train_data, train_labels, test_data, test_labels) for k in ks]\n",
        "print(\"The error rate for each k:\")\n",
        "for i in range(len(errors)):\n",
        "  print(f\"k = {ks[i]}: {errors[i]}\")"
      ],
      "execution_count": 23,
      "outputs": [
        {
          "output_type": "stream",
          "text": [
            "The error rate for each k:\n",
            "k = 1: 0.717\n",
            "k = 2: 0.748\n",
            "k = 5: 0.704\n",
            "k = 10: 0.712\n",
            "k = 20: 0.703\n"
          ],
          "name": "stdout"
        }
      ]
    },
    {
      "cell_type": "markdown",
      "metadata": {
        "id": "hWbwojlOLBIr"
      },
      "source": [
        "b) Repeat last step for k = 2, 5, 10, 20 and plot the error rate Pe against k. Is the error rate decreases with k? Should the error rate always decrease with k? \n",
        "\n",
        "Running the dataset through the model, we got the following result.\n",
        "\n"
      ]
    },
    {
      "cell_type": "code",
      "metadata": {
        "colab": {
          "base_uri": "https://localhost:8080/",
          "height": 295
        },
        "id": "7eTkKKVwLOqw",
        "outputId": "61836067-43ed-41f1-d82b-bf28f183620c"
      },
      "source": [
        "plt.plot(ks,errors)\n",
        "plt.title('K vs. Error rate')\n",
        "plt.xlabel('K')\n",
        "plt.ylabel('Error rate')\n",
        "plt.show()"
      ],
      "execution_count": 24,
      "outputs": [
        {
          "output_type": "display_data",
          "data": {
            "image/png": "[encoded data removed]",
            "text/plain": [
              "<Figure size 432x288 with 1 Axes>"
            ]
          },
          "metadata": {
            "tags": [],
            "needs_background": "light"
          }
        }
      ]
    },
    {
      "cell_type": "code",
      "metadata": {
        "id": "GfH20XMvL-LB",
        "colab": {
          "base_uri": "https://localhost:8080/"
        },
        "outputId": "9d84103c-dd65-4939-ee2b-7868a9a949f2"
      },
      "source": [
        "\n",
        "k = 10\n",
        "labels = ['Airplane', 'Automobile', 'Bird', 'Cat', 'Deer', 'Dog', 'Frog', 'Horse', 'Ship', 'Truck']\n",
        "model = KNN()\n",
        "for i in range(len(labels)):\n",
        "  print(f\"Actual label: {labels[i]}\")\n",
        "  ndx = int(np.where(test_labels==i)[0][0])\n",
        "  predicted = model.fit_specific(k, ndx, train_data, train_labels, test_data, test_labels)\n",
        "  print(f\"Closest predicted labels:\")\n",
        "  for i in predicted:\n",
        "    print(labels[i])\n",
        "  print()\n",
        "\n",
        "  \n",
        "  \n"
      ],
      "execution_count": 33,
      "outputs": [
        {
          "output_type": "stream",
          "text": [
            "Actual label: Airplane\n",
            "Closest predicted labels:\n",
            "Airplane\n",
            "Ship\n",
            "Ship\n",
            "Bird\n",
            "Ship\n",
            "Ship\n",
            "Bird\n",
            "Ship\n",
            "Airplane\n",
            "Deer\n",
            "\n",
            "Actual label: Automobile\n",
            "Closest predicted labels:\n",
            "Frog\n",
            "Deer\n",
            "Cat\n",
            "Ship\n",
            "Dog\n",
            "Frog\n",
            "Bird\n",
            "Frog\n",
            "Deer\n",
            "Deer\n",
            "\n",
            "Actual label: Bird\n",
            "Closest predicted labels:\n",
            "Deer\n",
            "Deer\n",
            "Deer\n",
            "Frog\n",
            "Airplane\n",
            "Frog\n",
            "Deer\n",
            "Frog\n",
            "Deer\n",
            "Ship\n",
            "\n",
            "Actual label: Cat\n",
            "Closest predicted labels:\n",
            "Frog\n",
            "Deer\n",
            "Deer\n",
            "Bird\n",
            "Frog\n",
            "Deer\n",
            "Deer\n",
            "Frog\n",
            "Deer\n",
            "Horse\n",
            "\n",
            "Actual label: Deer\n",
            "Closest predicted labels:\n",
            "Airplane\n",
            "Airplane\n",
            "Airplane\n",
            "Airplane\n",
            "Airplane\n",
            "Frog\n",
            "Bird\n",
            "Airplane\n",
            "Cat\n",
            "Airplane\n",
            "\n",
            "Actual label: Dog\n",
            "Closest predicted labels:\n",
            "Dog\n",
            "Deer\n",
            "Dog\n",
            "Dog\n",
            "Frog\n",
            "Frog\n",
            "Cat\n",
            "Frog\n",
            "Cat\n",
            "Deer\n",
            "\n",
            "Actual label: Frog\n",
            "Closest predicted labels:\n",
            "Deer\n",
            "Dog\n",
            "Deer\n",
            "Deer\n",
            "Deer\n",
            "Dog\n",
            "Bird\n",
            "Deer\n",
            "Deer\n",
            "Bird\n",
            "\n",
            "Actual label: Horse\n",
            "Closest predicted labels:\n",
            "Deer\n",
            "Frog\n",
            "Horse\n",
            "Frog\n",
            "Frog\n",
            "Automobile\n",
            "Frog\n",
            "Dog\n",
            "Frog\n",
            "Frog\n",
            "\n",
            "Actual label: Ship\n",
            "Closest predicted labels:\n",
            "Ship\n",
            "Ship\n",
            "Airplane\n",
            "Truck\n",
            "Ship\n",
            "Ship\n",
            "Ship\n",
            "Bird\n",
            "Ship\n",
            "Automobile\n",
            "\n",
            "Actual label: Truck\n",
            "Closest predicted labels:\n",
            "Airplane\n",
            "Ship\n",
            "Ship\n",
            "Horse\n",
            "Deer\n",
            "Truck\n",
            "Automobile\n",
            "Ship\n",
            "Ship\n",
            "Ship\n",
            "\n"
          ],
          "name": "stdout"
        }
      ]
    }
  ]
}